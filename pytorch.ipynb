{
  "nbformat": 4,
  "nbformat_minor": 0,
  "metadata": {
    "colab": {
      "provenance": [],
      "gpuType": "T4",
      "authorship_tag": "ABX9TyPrMzu4PTf2+AtYIFr0ARGG",
      "include_colab_link": true
    },
    "kernelspec": {
      "name": "python3",
      "display_name": "Python 3"
    },
    "language_info": {
      "name": "python"
    },
    "gpuClass": "standard",
    "accelerator": "GPU"
  },
  "cells": [
    {
      "cell_type": "markdown",
      "metadata": {
        "id": "view-in-github",
        "colab_type": "text"
      },
      "source": [
        "<a href=\"https://colab.research.google.com/github/bsmgkrishna/lc/blob/master/pytorch.ipynb\" target=\"_parent\"><img src=\"https://colab.research.google.com/assets/colab-badge.svg\" alt=\"Open In Colab\"/></a>"
      ]
    },
    {
      "cell_type": "code",
      "execution_count": 2,
      "metadata": {
        "id": "OEqJbfITVFht"
      },
      "outputs": [],
      "source": [
        "import torch\n",
        "import pandas as pd\n",
        "import numpy as np\n",
        "import matplotlib.pyplot as plt"
      ]
    },
    {
      "cell_type": "code",
      "source": [
        "torch.zeros(size = (2,3))"
      ],
      "metadata": {
        "colab": {
          "base_uri": "https://localhost:8080/"
        },
        "id": "j15BOpPAXLyD",
        "outputId": "18bb0c63-4a1d-40a8-dce7-e94eff17fe13"
      },
      "execution_count": 3,
      "outputs": [
        {
          "output_type": "execute_result",
          "data": {
            "text/plain": [
              "tensor([[0., 0., 0.],\n",
              "        [0., 0., 0.]])"
            ]
          },
          "metadata": {},
          "execution_count": 3
        }
      ]
    },
    {
      "cell_type": "code",
      "source": [
        "float_32_tensor = torch.tensor([3.,4.,5.])\n",
        "float_32_tensor.dtype"
      ],
      "metadata": {
        "id": "Gp5KpEC5uvVQ",
        "colab": {
          "base_uri": "https://localhost:8080/"
        },
        "outputId": "759f0c33-a4f0-481a-d4d5-414e327a4aa1"
      },
      "execution_count": 4,
      "outputs": [
        {
          "output_type": "execute_result",
          "data": {
            "text/plain": [
              "torch.float32"
            ]
          },
          "metadata": {},
          "execution_count": 4
        }
      ]
    },
    {
      "cell_type": "code",
      "source": [
        "float_16_tensor = float_32_tensor.type(torch.int32)"
      ],
      "metadata": {
        "id": "gq6LBNfoliBU"
      },
      "execution_count": 5,
      "outputs": []
    },
    {
      "cell_type": "code",
      "source": [
        "float_32_tensor*float_16_tensor"
      ],
      "metadata": {
        "colab": {
          "base_uri": "https://localhost:8080/"
        },
        "id": "OM_B09HTlu-L",
        "outputId": "0a683752-a399-4c0b-d5de-031d27afb395"
      },
      "execution_count": 6,
      "outputs": [
        {
          "output_type": "execute_result",
          "data": {
            "text/plain": [
              "tensor([ 9., 16., 25.])"
            ]
          },
          "metadata": {},
          "execution_count": 6
        }
      ]
    },
    {
      "cell_type": "code",
      "source": [
        "random_tensor = torch.rand(3,4,dtype=torch.half)\n",
        "random_tensor"
      ],
      "metadata": {
        "colab": {
          "base_uri": "https://localhost:8080/"
        },
        "id": "en6crDAGl7Pt",
        "outputId": "25836249-ef05-46de-b753-6ac08f14735d"
      },
      "execution_count": 7,
      "outputs": [
        {
          "output_type": "execute_result",
          "data": {
            "text/plain": [
              "tensor([[0.4175, 0.3501, 0.6958, 0.1069],\n",
              "        [0.0957, 0.0132, 0.1812, 0.7969],\n",
              "        [0.2178, 0.0596, 0.0093, 0.2354]], dtype=torch.float16)"
            ]
          },
          "metadata": {},
          "execution_count": 7
        }
      ]
    },
    {
      "cell_type": "code",
      "source": [
        "a = torch.tensor([1,2,3,4])\n",
        "b = torch.tensor([[4],[3],[2],[7]])"
      ],
      "metadata": {
        "id": "ksxSWlo1ty6w"
      },
      "execution_count": 23,
      "outputs": []
    },
    {
      "cell_type": "code",
      "source": [
        "#@title Basic functions\n",
        "1. elementwise multiplication\n",
        "2. matrix multiplication "
      ],
      "metadata": {
        "id": "9xAnbNbgx-X1"
      },
      "execution_count": 17,
      "outputs": []
    },
    {
      "cell_type": "code",
      "source": [
        "a * b"
      ],
      "metadata": {
        "id": "vAzlZQy6yT0x",
        "outputId": "fd19846e-45e4-42fc-a2ec-addf38b7e6fb",
        "colab": {
          "base_uri": "https://localhost:8080/"
        }
      },
      "execution_count": 24,
      "outputs": [
        {
          "output_type": "execute_result",
          "data": {
            "text/plain": [
              "tensor([[ 4,  8, 12, 16],\n",
              "        [ 3,  6,  9, 12],\n",
              "        [ 2,  4,  6,  8],\n",
              "        [ 7, 14, 21, 28]])"
            ]
          },
          "metadata": {},
          "execution_count": 24
        }
      ]
    },
    {
      "cell_type": "code",
      "source": [
        "torch.matmul(a , b)"
      ],
      "metadata": {
        "id": "ap7zgcxj0tKg",
        "outputId": "092a91b4-c498-4d6b-d560-84bd31205f73",
        "colab": {
          "base_uri": "https://localhost:8080/"
        }
      },
      "execution_count": 26,
      "outputs": [
        {
          "output_type": "execute_result",
          "data": {
            "text/plain": [
              "tensor([44])"
            ]
          },
          "metadata": {},
          "execution_count": 26
        }
      ]
    },
    {
      "cell_type": "code",
      "source": [
        "one_to_twenty = torch.tensor(range(1,21))\n",
        "one_to_twenty"
      ],
      "metadata": {
        "id": "IGL9c9Mr0w4-",
        "outputId": "0307a363-2fbc-410e-e45c-a9b6118f7601",
        "colab": {
          "base_uri": "https://localhost:8080/"
        }
      },
      "execution_count": 28,
      "outputs": [
        {
          "output_type": "execute_result",
          "data": {
            "text/plain": [
              "tensor([ 1,  2,  3,  4,  5,  6,  7,  8,  9, 10, 11, 12, 13, 14, 15, 16, 17, 18,\n",
              "        19, 20])"
            ]
          },
          "metadata": {},
          "execution_count": 28
        }
      ]
    },
    {
      "cell_type": "code",
      "source": [
        "one_to_twenty.argmin() #index of minimum element"
      ],
      "metadata": {
        "id": "6v0J7V03CjYc",
        "outputId": "fa4528dd-98ee-4681-c874-6006f7bdd173",
        "colab": {
          "base_uri": "https://localhost:8080/"
        }
      },
      "execution_count": 29,
      "outputs": [
        {
          "output_type": "execute_result",
          "data": {
            "text/plain": [
              "tensor(0)"
            ]
          },
          "metadata": {},
          "execution_count": 29
        }
      ]
    },
    {
      "cell_type": "code",
      "source": [
        "one_to_twenty.argmax() #index of maximum element"
      ],
      "metadata": {
        "id": "M0ThSKktCn_S",
        "outputId": "23f845aa-6c24-4efe-b8b2-3e6b328e16e9",
        "colab": {
          "base_uri": "https://localhost:8080/"
        }
      },
      "execution_count": 30,
      "outputs": [
        {
          "output_type": "execute_result",
          "data": {
            "text/plain": [
              "tensor(19)"
            ]
          },
          "metadata": {},
          "execution_count": 30
        }
      ]
    },
    {
      "cell_type": "code",
      "source": [],
      "metadata": {
        "id": "Xuv6ob02CrMq"
      },
      "execution_count": null,
      "outputs": []
    }
  ]
}